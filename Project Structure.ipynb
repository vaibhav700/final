{
 "cells": [
  {
   "cell_type": "code",
   "execution_count": null,
   "id": "identified-kernel",
   "metadata": {},
   "outputs": [],
   "source": [
    "# import Libraries\n",
    "\n",
    "\n",
    "class project_name:\n",
    "    \n",
    "# Data Import \n",
    "\n",
    "# EDA()\n",
    "\n",
    "# Train Model\n",
    "\n",
    "# Model Evaluation\n",
    "\n",
    "# Dump Model\n"
   ]
  }
 ],
 "metadata": {
  "kernelspec": {
   "display_name": "Python 3",
   "language": "python",
   "name": "python3"
  },
  "language_info": {
   "codemirror_mode": {
    "name": "ipython",
    "version": 3
   },
   "file_extension": ".py",
   "mimetype": "text/x-python",
   "name": "python",
   "nbconvert_exporter": "python",
   "pygments_lexer": "ipython3",
   "version": "3.8.7"
  }
 },
 "nbformat": 4,
 "nbformat_minor": 5
}
